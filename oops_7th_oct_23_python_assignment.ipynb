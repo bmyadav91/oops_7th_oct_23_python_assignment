{
 "cells": [
  {
   "cell_type": "code",
   "execution_count": null,
   "id": "5dcece4a-76fb-4eb5-be3e-3979764edcfd",
   "metadata": {},
   "outputs": [],
   "source": [
    "# Opps 7th October 2023 Python Assignment"
   ]
  },
  {
   "cell_type": "code",
   "execution_count": 18,
   "id": "15b19e47-cf49-44f2-87a8-27f5fddb4d34",
   "metadata": {},
   "outputs": [
    {
     "name": "stdout",
     "output_type": "stream",
     "text": [
      "Your Name is: 'BM Yadav'\n",
      "Your AC is: '31206549852'\n",
      "Your Initial Balance is: '1000'\n",
      "You have deposited '250000' and available balance is '251000'\n",
      "You have successfully withdrawn '50000' now your available balance is '201000'\n"
     ]
    }
   ],
   "source": [
    "# Problem 1: Bank Account Create a class representing a bank account with attributes like account number, account holder name, and balance. Implement methods to deposit and withdraw money from the account.\n",
    "class bank_account:\n",
    "    def __init__(self, account_number, account_holder, current_balance=0):\n",
    "        self.account_number = account_number\n",
    "        self.account_holder = account_holder\n",
    "        self.current_balance = current_balance\n",
    "    def deposit_money(self, deposit_amount):\n",
    "        if deposit_amount > 0:\n",
    "            self.current_balance += deposit_amount\n",
    "            print(f\"You have deposited '{deposit_amount}' and available balance is '{self.current_balance}'\")\n",
    "        else:\n",
    "            print(\"Please Enter Valid Information\")\n",
    "    def withdraw_money(self, withdraw_amount):\n",
    "        if withdraw_amount > self.current_balance:\n",
    "            print(\"You're trying to enter insufficient balance\")\n",
    "        else:\n",
    "            self.current_balance -= withdraw_amount\n",
    "            print(f\"You have successfully withdrawn '{withdraw_amount}' now your available balance is '{self.current_balance}'\")\n",
    "    def check_account_details(self):\n",
    "        print(f\"Your Name is: '{self.account_holder}'\")\n",
    "        print(f\"Your AC is: '{self.account_number}'\")\n",
    "        print(f\"Your Initial Balance is: '{self.current_balance}'\")\n",
    "\n",
    "# call the class \n",
    "showac_details = bank_account(31206549852, \"BM Yadav\", 1000)\n",
    "# show customer information\n",
    "showac_details.check_account_details()\n",
    "\n",
    "# deposit money\n",
    "Enter_deposit_amount = 250000\n",
    "showac_details.deposit_money(Enter_deposit_amount)\n",
    "\n",
    "# withdraw money\n",
    "enter_withraw_amount = 50000\n",
    "showac_details.withdraw_money(enter_withraw_amount)"
   ]
  },
  {
   "cell_type": "code",
   "execution_count": 20,
   "id": "1a4aa248-0cd1-4c57-8231-593b04e3e4e3",
   "metadata": {},
   "outputs": [
    {
     "name": "stdout",
     "output_type": "stream",
     "text": [
      "Employee Bonus will be: '₹10000.0'\n",
      "Employee ID: '96'\n",
      "Employee Name: 'BM Yadav'\n",
      "Employee Salary: '100000'\n"
     ]
    }
   ],
   "source": [
    "# Problem 2: Employee Management Create a class representing an employee with attributes like employee ID, name, and salary. Implement methods to calculate the yearly bonus and display employee details.\n",
    "class employee:\n",
    "    def __init__(self, employee_id, employee_name, salary):\n",
    "        self.employee_id = employee_id\n",
    "        self.employee_name = employee_name\n",
    "        self.salary = salary\n",
    "    def calculate_bonus(self, bonus_percent):\n",
    "        if bonus_percent >= 0:\n",
    "            bonus_amount = (bonus_percent / 100) * self.salary\n",
    "            return bonus_amount\n",
    "        else:\n",
    "            print(\"Please Enter Valid Percentage\")\n",
    "    def employee_obj(self):\n",
    "        print(f\"Employee ID: '{self.employee_id}'\")\n",
    "        print(f\"Employee Name: '{self.employee_name}'\")\n",
    "        print(f\"Employee Salary: '{self.salary}'\")\n",
    "\n",
    "# call class \n",
    "employee_obj = employee(96, \"BM Yadav\", 100000)\n",
    "# calculate bonus \n",
    "emp_bonus = 10 #enter bonus it will be percent default is 10%\n",
    "calc_employee_binus = employee_obj.calculate_bonus(emp_bonus)\n",
    "# employee bonus \n",
    "print(f\"Employee Bonus will be: '₹{calc_employee_binus}'\")\n",
    "# show employee details\n",
    "employee_obj.employee_obj()"
   ]
  },
  {
   "cell_type": "code",
   "execution_count": 35,
   "id": "41471d2a-5f9a-4df2-aa7b-f8fd403089f7",
   "metadata": {},
   "outputs": [
    {
     "name": "stdout",
     "output_type": "stream",
     "text": [
      "we have 10 are available\n",
      "you have rented '1' vehicles now we have '9' vehicles are left\n",
      "You have returned 1 vehicles now we have '10' vehicles are left\n"
     ]
    }
   ],
   "source": [
    "# Problem 3: Vehicle Rental Create a class representing a vehicle rental system. Implement methods to rent a vehicle, return a vehicle, and display available vehicles.\n",
    "class vehicle_rental_system:\n",
    "    def __init__(self, total_vehicles=10):\n",
    "        self.total_vehicles = total_vehicles\n",
    "        print(f\"we have {self.total_vehicles} are available\")\n",
    "    def rent_vehicles(self,rent):\n",
    "        if  rent > self.total_vehicles:\n",
    "            print(f\"Not Available Right Now! Total '{self.total_vehicles}' is left\")\n",
    "        else:\n",
    "            self.total_vehicles -= rent\n",
    "            print(f\"you have rented '{rent}' vehicles now we have '{self.total_vehicles}' vehicles are left\")\n",
    "    def return_vehicles(self, returned):\n",
    "        if  returned > self.total_vehicles:\n",
    "            print(\"You entered invalid please enter lower vehicles \")\n",
    "        elif returned + self.total_vehicles > 10:\n",
    "            print(\"You returned too much vechiles while you have rented few vehicles\")\n",
    "        else:\n",
    "            self.total_vehicles += returned\n",
    "            print(f\"You have returned {returned} vehicles now we have '{self.total_vehicles}' vehicles are left\")\n",
    "\n",
    "# call the class\n",
    "vehicles_obj = vehicle_rental_system()\n",
    "# how many vehicles you want to rent\n",
    "want_rent = 1\n",
    "vehicles_obj.rent_vehicles(want_rent)\n",
    "# how many vehicles you want to return\n",
    "want_return = 1\n",
    "vehicles_obj.return_vehicles(want_return)"
   ]
  },
  {
   "cell_type": "code",
   "execution_count": 54,
   "id": "2d5f7db4-2f4b-4996-b9ba-439e0f2ad3a0",
   "metadata": {},
   "outputs": [
    {
     "name": "stdout",
     "output_type": "stream",
     "text": [
      "You Added '1' book and we have available '11' book\n",
      "You borrowed '5' book and we have available '6' book\n",
      "'6' book are available\n"
     ]
    }
   ],
   "source": [
    "# Problem 4: Library Catalog Create classes representing a library and a book. Implement methods to add books to the library, borrow books, and display available books.\n",
    "class library_book:\n",
    "    def __init__(self, total_book=10, borrow_book=0):\n",
    "        self.total_book = total_book\n",
    "        self.borrow_book = borrow_book\n",
    "        \n",
    "    def add_book(self, adding_book):\n",
    "        if adding_book < 0:\n",
    "            print(\"Please Add More Than at least a book\")\n",
    "        else:\n",
    "            self.total_book += adding_book\n",
    "            print(f\"You Added '{adding_book}' book and we have available '{self.total_book}' book\")\n",
    "    def borrow_book_fn(self, borrow_book_arg):\n",
    "        if borrow_book_arg > self.total_book:\n",
    "            print(f\"you are trying to borrow more book while we have '{self.total_book}' book\")\n",
    "        else:\n",
    "            self.total_book -= borrow_book_arg\n",
    "            self.borrow_book += borrow_book_arg\n",
    "            print(f\"You borrowed '{borrow_book_arg}' book and we have available '{self.total_book}' book\")\n",
    "    def availability(self):\n",
    "        print(f\"'{self.total_book}' book are available\")\n",
    "\n",
    "# call the class\n",
    "liberary = library_book()\n",
    "# add book\n",
    "want_add = 1\n",
    "liberary.add_book(want_add)\n",
    "# borrow book\n",
    "want_borrow = 5\n",
    "liberary.borrow_book_fn(want_borrow)\n",
    "# book availibility \n",
    "liberary.availability()"
   ]
  },
  {
   "cell_type": "code",
   "execution_count": 69,
   "id": "5ed7e193-6bde-4549-8d2f-d2fc014f5520",
   "metadata": {},
   "outputs": [
    {
     "name": "stdout",
     "output_type": "stream",
     "text": [
      "Quantity Updated- ID: 1 Name: Lenovo IdeaPad 3 Laptop Quantity: 3\n",
      "\n",
      "        Product- ID 1 Name: Lenovo IdeaPad 3 Laptop Quantity: 3\n",
      "        -----------------------------\n",
      "        \n",
      "None\n",
      "\n",
      "        Product- ID 2 Name: Huawei Media Pad T7 Tab Quantity: 3\n",
      "        -----------------------------\n",
      "        \n",
      "None\n",
      "\n",
      "        Product- ID 3 Name: OnePlus Nord CE2 Lite 5G Quantity: 4\n",
      "        -----------------------------\n",
      "        \n",
      "None\n"
     ]
    }
   ],
   "source": [
    "# Problem 5: Product Inventory Create classes representing a product and an inventory system. Implement methods to add products to the inventory, update product quantity, and display available products.\n",
    "class products:\n",
    "    def __init__(self, product_id, product_name, product_qty=0):\n",
    "        self.product_id = product_id\n",
    "        self.product_name = product_name\n",
    "        self.product_qty = product_qty\n",
    "    def add_prod(self, prod_id, prod_name, prod_qty):\n",
    "        print(f\"Added Product- ID: {self.product_id} Name: {self.product_name} Quantity: {self.product_qty}\")\n",
    "    def update_qty(self, add_qty):\n",
    "        if add_qty > 0:\n",
    "            self.product_qty += add_qty\n",
    "            print(f\"Quantity Updated- ID: {self.product_id} Name: {self.product_name} Quantity: {self.product_qty}\")\n",
    "        else:\n",
    "            print(\"Please Update Quantity with non negative value\")\n",
    "    def show_prod_details(self):\n",
    "        print(f\"\"\"\n",
    "        Product- ID {self.product_id} Name: {self.product_name} Quantity: {self.product_qty}\n",
    "        -----------------------------\n",
    "        \"\"\")\n",
    "\n",
    "\n",
    "# call class\n",
    "product1 = products(1, \"Lenovo IdeaPad 3 Laptop\", 2)\n",
    "product2 = products(2, \"Huawei Media Pad T7 Tab\", 3)\n",
    "product3 = products(3, \"OnePlus Nord CE2 Lite 5G\", 4)\n",
    "# You can add more products \n",
    "# update quantity\n",
    "quantity = 1\n",
    "product1.update_qty(quantity)\n",
    "\n",
    "# print products \n",
    "print(product1.show_prod_details())\n",
    "print(product2.show_prod_details())\n",
    "print(product3.show_prod_details())\n"
   ]
  },
  {
   "cell_type": "code",
   "execution_count": 75,
   "id": "08a208a2-659d-4bde-af08-09a0d6fcdcc5",
   "metadata": {},
   "outputs": [
    {
     "name": "stdout",
     "output_type": "stream",
     "text": [
      "Calculated Area: 15\n",
      "Permiter Of Shape: 20\n"
     ]
    }
   ],
   "source": [
    "# Problem 6: Shape Calculation Create a class representing a shape with attributes like length, width, and height. Implement methods to calculate the area and perimeter of the shape.\n",
    "class shape:\n",
    "    def __init__(self, length, width, height):\n",
    "        self.length = length\n",
    "        self.width = width\n",
    "        self.height = height\n",
    "    def calculate_area(self):\n",
    "        return self.length * self.width\n",
    "    def calculate_perimeter(self):\n",
    "        return 2 * (self.length + self.length)\n",
    "\n",
    "# call class \n",
    "shape_obj = shape(5,3,2)\n",
    "# area \n",
    "print(f\"Calculated Area: {shape_obj.calculate_area()}\")\n",
    "# perimeter of shape\n",
    "print(f\"Permiter Of Shape: {shape_obj.calculate_perimeter()}\")"
   ]
  },
  {
   "cell_type": "code",
   "execution_count": 87,
   "id": "3e1104d8-ac77-4437-954a-8c039b5c73c8",
   "metadata": {},
   "outputs": [
    {
     "name": "stdout",
     "output_type": "stream",
     "text": [
      "\n",
      "        Student ID: 235\n",
      "        Student Name: BM Yadav\n",
      "        Student Grades: Grade A%\n",
      "        \n",
      "\n",
      "        Student ID: 236\n",
      "        Student Name: Vikrant\n",
      "        Student Grades: Grade A%\n",
      "        \n",
      "\n",
      "        Student ID: 237\n",
      "        Student Name: Raj\n",
      "        Student Grades: Grade B%\n",
      "        \n"
     ]
    }
   ],
   "source": [
    "# Problem 7: Student Management Create a class representing a student with attributes like student ID, name, and grades. Implement methods to calculate the average grade and display student details.\n",
    "class students:\n",
    "    def __init__(self, student_id, name, grades):\n",
    "        self.student_id = student_id\n",
    "        self.name = name\n",
    "        self.grades = grades\n",
    "    def cal_grade(self):\n",
    "        found_grade = sum(self.grades) / len(self.grades)\n",
    "        if found_grade >= 90 and found_grade <=100:\n",
    "            return \"Grade A\"\n",
    "        elif found_grade >=70 and found_grade < 90:\n",
    "            return \"Grade B\"\n",
    "        elif found_grade >= 60 and found_grade < 70:\n",
    "            return \"Grade C\"\n",
    "        else:\n",
    "            return \"Grade F\"\n",
    "\n",
    "    def student_details(self):\n",
    "        print(f\"\"\"\n",
    "        Student ID: {self.student_id}\n",
    "        Student Name: {self.name}\n",
    "        Student Grades: {self.cal_grade()}%\n",
    "        \"\"\")\n",
    "\n",
    "# students \n",
    "bmyadav = students(235, \"BM Yadav\", [88,99,87,97])\n",
    "vikrant = students(236, \"Vikrant\", [99,98,79,90])\n",
    "raj = students(237, \"Raj\", [87,78,89,92])\n",
    "# print result \n",
    "bmyadav.student_details()\n",
    "vikrant.student_details()\n",
    "raj.student_details()"
   ]
  },
  {
   "cell_type": "code",
   "execution_count": 90,
   "id": "7376142c-8c0a-4b99-8acc-5633d4d9b796",
   "metadata": {},
   "outputs": [
    {
     "name": "stdout",
     "output_type": "stream",
     "text": [
      "\n",
      "        Email Send From: bmyadav@bmyadav.com\n",
      "        Recipient: support@google.com\n",
      "        Subject: Looking For Error 404 in Your Page\n",
      "        \n"
     ]
    }
   ],
   "source": [
    "# Problem 8: Email Management Create a class representing an email with attributes like sender, recipient, and subject. Implement methods to send an email and display email details.\n",
    "class email:\n",
    "    def __init__(self, sender, recipient, subject):\n",
    "        self.sender = sender\n",
    "        self.recipient = recipient\n",
    "        self.subject = subject\n",
    "    \n",
    "    def display_emails_details(self):\n",
    "        print(f\"\"\"\n",
    "        Email Send From: {self.sender}\n",
    "        Recipient: {self.recipient}\n",
    "        Subject: {self.subject}\n",
    "        \"\"\")\n",
    "\n",
    "sneder_obj = email(\"bmyadav@bmyadav.com\", \"support@google.com\", \"Looking For Error 404 in Your Page\")\n",
    "# showing details \n",
    "sneder_obj.display_emails_details()"
   ]
  },
  {
   "cell_type": "code",
   "execution_count": 118,
   "id": "2d593734-3c9d-44d0-bb04-cc0611d3c7ef",
   "metadata": {},
   "outputs": [
    {
     "name": "stdout",
     "output_type": "stream",
     "text": [
      "You have successfully uploaded a post by your username: RajKhan\n",
      "You have successfully uploaded a post by your username: RajKhan\n",
      "No published posts yet.\n",
      "Posts by RajKhan:\n",
      "Photo Caption with Rainy Season\n",
      "Happy Birthday!\n",
      "Posts found with keyword 'rainy':\n",
      "Photo Caption with Rainy Season\n"
     ]
    }
   ],
   "source": [
    "# Problem 9: Social Media Profile Create a class representing a social media profile with attributes like username and posts. Implement methods to add posts, display posts, and search for posts by keyword.\n",
    "class SocialMedia:\n",
    "    def __init__(self, username):\n",
    "        self.username = username\n",
    "        self.posts = []\n",
    "\n",
    "    def add_post(self, post_content):\n",
    "        self.posts.append(post_content)\n",
    "        print(f\"You have successfully uploaded a post by your username: {self.username}\")\n",
    "\n",
    "    def display_posts(self):\n",
    "        if not self.posts:\n",
    "            print(\"No published posts yet.\")\n",
    "        else:\n",
    "            print(f\"Posts by {self.username}:\")\n",
    "            for post in self.posts:\n",
    "                print(post)\n",
    "\n",
    "    def search_posts_by_keyword(self, keyword):\n",
    "        matched_posts = [post for post in self.posts if keyword.lower() in post.lower()]\n",
    "        if not matched_posts:\n",
    "            print(f\"No posts found with keyword: {keyword}\")\n",
    "        else:\n",
    "            print(f\"Posts found with keyword '{keyword}':\")\n",
    "            for post in matched_posts:\n",
    "                print(post)\n",
    "\n",
    "\n",
    "aadit = SocialMedia(\"aadit07\")\n",
    "raj = SocialMedia(\"RajKhan\")\n",
    "\n",
    "# Add posts\n",
    "raj.add_post(\"Photo Caption with Rainy Season\")\n",
    "raj.add_post(\"Happy Birthday!\")\n",
    "\n",
    "# Display posts\n",
    "aadit.display_posts()\n",
    "raj.display_posts()\n",
    "\n",
    "# Search for posts by keyword\n",
    "raj.search_posts_by_keyword(\"rainy\")\n"
   ]
  },
  {
   "cell_type": "code",
   "execution_count": 140,
   "id": "125313cf-b349-4f73-a980-3e6c8914acec",
   "metadata": {},
   "outputs": [
    {
     "name": "stdout",
     "output_type": "stream",
     "text": [
      "You have added a new task: Submit Assignment\n",
      "You have added a new task: Watch Next Video\n",
      " \n",
      "                Task: Submit Assignment\n",
      "                Due Date: 10-Oct-2023\n",
      "                ----------------------------------\n",
      "                \n",
      " \n",
      "                Task: Watch Next Video\n",
      "                Due Date: 12-Oct-2023\n",
      "                ----------------------------------\n",
      "                \n",
      "Task 'Submit Assignment' marked as completed.\n",
      " \n",
      "                Task: Watch Next Video\n",
      "                Due Date: 12-Oct-2023\n",
      "                ----------------------------------\n",
      "                \n"
     ]
    }
   ],
   "source": [
    "# Problem 10: ToDo List Create a class representing a ToDo list with attributes like tasks and due dates. Implement methods to add tasks, mark tasks as completed, and display pending tasks.\n",
    "class ToDoList:\n",
    "    def __init__(self):\n",
    "        self.tasks = {}\n",
    "\n",
    "    def add_task(self, task, due_date):\n",
    "        self.tasks.update({\n",
    "            task: {\"Due Date\": due_date, \"completed\": False}\n",
    "        })\n",
    "        print(f\"You have added a new task: {task}\")\n",
    "\n",
    "    def mark_completed(self, task):\n",
    "        if task in self.tasks:\n",
    "            self.tasks[task][\"completed\"] = True\n",
    "            print(f\"Task '{task}' marked as completed.\")\n",
    "        else:\n",
    "            print(f\"No task found with the name '{task}'.\")\n",
    "\n",
    "    def pending_task(self):\n",
    "        find_pending = [(key, value) for key, value in self.tasks.items() if value[\"completed\"] == False]\n",
    "        if not find_pending:\n",
    "            print(\"No Any Task Found\")\n",
    "        else:\n",
    "            for task, details in find_pending:\n",
    "                print(f\"\"\" \n",
    "                Task: {task}\n",
    "                Due Date: {details['Due Date']}\n",
    "                ----------------------------------\n",
    "                \"\"\")\n",
    "\n",
    "# Example usage:\n",
    "todo_list = ToDoList()\n",
    "\n",
    "# Add task\n",
    "todo_list.add_task(\"Submit Assignment\", \"10-Oct-2023\")\n",
    "todo_list.add_task(\"Watch Next Video\", \"12-Oct-2023\")\n",
    "\n",
    "# Show pending todo list \n",
    "todo_list.pending_task()\n",
    "# marked todo\n",
    "todo_list.mark_completed(\"Submit Assignment\")\n",
    "# now print updates\n",
    "todo_list.pending_task()"
   ]
  }
 ],
 "metadata": {
  "kernelspec": {
   "display_name": "Python 3 (ipykernel)",
   "language": "python",
   "name": "python3"
  },
  "language_info": {
   "codemirror_mode": {
    "name": "ipython",
    "version": 3
   },
   "file_extension": ".py",
   "mimetype": "text/x-python",
   "name": "python",
   "nbconvert_exporter": "python",
   "pygments_lexer": "ipython3",
   "version": "3.12.0"
  }
 },
 "nbformat": 4,
 "nbformat_minor": 5
}
